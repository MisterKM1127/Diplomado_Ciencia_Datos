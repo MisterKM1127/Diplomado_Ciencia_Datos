{
  "nbformat": 4,
  "nbformat_minor": 0,
  "metadata": {
    "colab": {
      "provenance": []
    },
    "kernelspec": {
      "name": "python3",
      "display_name": "Python 3"
    },
    "language_info": {
      "name": "python"
    }
  },
  "cells": [
    {
      "cell_type": "markdown",
      "source": [
        "# <span style=\"color:blue\"><center>**TRANSHUMANCIA EN ELECCIONES - COLOMBIA**</center></span>"
      ],
      "metadata": {
        "id": "pjsrr6vWMHov"
      }
    },
    {
      "cell_type": "markdown",
      "source": [
        "## <span style=\"color:green\">**Reporte No. 1**</span>"
      ],
      "metadata": {
        "id": "GwXFbJbhRrGC"
      }
    },
    {
      "cell_type": "markdown",
      "source": [
        "\n",
        "Analitica descriptiva para análisis el de inscripción de cédulas"
      ],
      "metadata": {
        "id": "XeZESlIQ7D73"
      }
    },
    {
      "cell_type": "markdown",
      "source": [
        "\n",
        "## <span style=\"color:green\">**Asesor principal**</span>"
      ],
      "metadata": {
        "id": "dRNBhp3xRrA4"
      }
    },
    {
      "cell_type": "markdown",
      "source": [
        "Alvaro Mauricio Montenegro, ammontenegrod@unal.edu.co"
      ],
      "metadata": {
        "id": "5mBWBB8ARq-Y"
      }
    },
    {
      "cell_type": "markdown",
      "source": [
        "## <span style=\"color:green\">**Autores**</span>"
      ],
      "metadata": {
        "id": "v0dNNwetRq7m"
      }
    },
    {
      "cell_type": "markdown",
      "source": [
        "1. Kevin Andrés Martínez López, kmartinezl@unal.edu.co   \n",
        "2. Mario Andres Pirachican Gil, apirachi@gmail.com\n",
        "3. Victor Andres Quintero Ramirez, vaquinteror@gmail.com\n",
        "4. Yaina Karina Muñoz Garces, yainakarina@gmail.com  "
      ],
      "metadata": {
        "id": "3rZKsqC_Rq5F"
      }
    },
    {
      "cell_type": "markdown",
      "source": [
        "## <span style=\"color:green\">**Introducción**</span>"
      ],
      "metadata": {
        "id": "cVlkjc40Rq2c"
      }
    },
    {
      "cell_type": "markdown",
      "source": [
        "Como parte del desarrollo del diplomado nos vamos a enfocar en desarrollar  un trabajo que nos permite aplicar conceptos de analítica aplicados a una problemática, que para este caso se va a encaminar en un análisis descriptivo del comportamiento de la inscripción de cedulas que son el insumo para el censo electoral donde se tiene la base de los sufragantes en las próximas elecciones, donde a través de la analítica vamos a identificar patrones de comportamiento, que generen  posibles eventos anormales que nos lleven a un tema critico en los procesos electorales como es \"LA TRASHUMANCIA\", que en palabras comunes es conocido como trasteo de votos y que puede llegar a tener implicaciones legales. A través de procesos de captura, extracción, transformación de datos podremos visualizar por medio de tableros BI este tipo de comportamientos."
      ],
      "metadata": {
        "id": "6U-FBSHV9gi1"
      }
    },
    {
      "cell_type": "markdown",
      "source": [
        "## <span style=\"color:green\">**Descripcion del problema**</span>"
      ],
      "metadata": {
        "id": "2d2u1gO-RqxV"
      }
    },
    {
      "cell_type": "markdown",
      "source": [
        "En épocas preelectorales la Registraduría Nacional del estado Civil, lleva a cabo el proceso de inscripción de cédulas de ciudadanía por el cual los ciudadanos colombianos inscriben su cédula para ser incluidos en el censo electoral y así poder ejercer su derecho al voto en un lugar cercano a su residencia. Este proceso puede verse afectado por prácticas irregulares de inscripción de los ciudadanos en un sitio diferente a su residencia. Estas prácticas pueden tener como objetivo manipular el resultado de elecciones o cometer otros tipos de fraude, como la suplantación de identidad. Este trabajo de diplomado busca que, mediante el uso de herramientas de analítica de datos e inteligencia de negocios, sea posible detectar la probable ocurrencia de la inscripción irregular de cédulas en el territorio colombiano a través del análisis comparativo de fuentes de datos internas o externas que estén disponibles y accesibles. La solución comprenderá un tablero que deberá contener un mapa de calor relacionado con los posibles eventos de inscripción irregular de cédulas, de acuerdo con las variables identificadas como de alta influencia para identificar las posibles ocurrencias de inscripción irregular de cédulas a nivel de puestos de votación."
      ],
      "metadata": {
        "id": "CyFP_hEzqcZt"
      }
    },
    {
      "cell_type": "markdown",
      "source": [
        "## <span style=\"color:green\">**Fuentes de datos**</span>"
      ],
      "metadata": {
        "id": "UdRsRECoRqsO"
      }
    },
    {
      "cell_type": "markdown",
      "source": [
        "Dentro de las fuentes de datos debemos tener una cuenta como principal fuente la data de **censo electoral** la cual contiene en ella registros donde nos indica que persona pide el movimiento a una mesa de votación especifica dentro del territorio nacional esta fuente se resguarda en la registraduría nacional, para tener un análisis correcto sobre un movimiento irregular se desea tener una correlación con fuentes como **SISBEN, Seguridad Social y EPS** esto con el fin de determinar si la persona que se inscribió en este periodo es coincidente con temas de atención como salud, Sisbén etc."
      ],
      "metadata": {
        "id": "_nrMwhNJRqpu"
      }
    },
    {
      "cell_type": "markdown",
      "source": [
        "## <span style=\"color:green\">**Procesamiento ETL**</span>"
      ],
      "metadata": {
        "id": "5nfzUS8tWFdU"
      }
    },
    {
      "cell_type": "markdown",
      "source": [
        "En primer lugar, se debe extraer la información relevante de múltiples fuentes de datos internas y externas, incluyendo los registros de inscripción de cédulas y otros datos relacionados con los ciudadanos y los puestos de votación, los cuales estarán en formato de archivos planos. Luego, es necesario transformar los datos, aplicando procesos de limpieza, normalización y enriquecimiento para asegurar la calidad y la consistencia de los datos, proceso que se realizara utilizando herramientas como cuadernos de jupyter-lab (en una etapa de inicio) empleando librerías y conocimientos adquiridos en el diplomado, seguidamente la idea es utilizar un SSIS o Spark. Esto incluiría la identificación de variables clave (outliers) que influyen en la detección de inscripciones irregulares, como la coincidencia de direcciones de residencia y el análisis de patrones de inscripción. Finalmente, los datos transformados deben cargarse en un sistema o tablero de inteligencia de negocios, donde se visualizarán los resultados. Esta etapa de carga permitirá el análisis y la toma de decisiones, examinar de manera efectiva los datos y detectar patrones sospechosos que requieran una investigación más detallada.\n"
      ],
      "metadata": {
        "id": "Uo93SGJaWFaa"
      }
    },
    {
      "cell_type": "markdown",
      "source": [
        "## <span style=\"color:green\">**Exploración de los datos**</span>"
      ],
      "metadata": {
        "id": "1jv76mnjWFXz"
      }
    },
    {
      "cell_type": "markdown",
      "source": [
        "*Indicar que técnicas se usaran inicialmente para describir y entender sus datos: Muestras de los datos, estadísticas y grafica univariadas, Técnicas factoriales: ACP,  etc.*\n",
        "**PENDIENTE DISCUTIR CON ASESOR**"
      ],
      "metadata": {
        "id": "ihq6CO0CWFVT"
      }
    },
    {
      "cell_type": "markdown",
      "source": [
        "## <span style=\"color:green\">**Técnicas de modelación propuestas**</span>"
      ],
      "metadata": {
        "id": "C_azIcA9WFOq"
      }
    },
    {
      "cell_type": "markdown",
      "source": [
        "*Se espera que hayan sido discutidas con algún asesor (profesor) previamente.*\n",
        "**PENDIENTE DISCUTIR CON ASESOR**"
      ],
      "metadata": {
        "id": "LLsOx3rEWFMi"
      }
    },
    {
      "cell_type": "markdown",
      "source": [
        "## <span style=\"color:green\">**Conocimientos requeridos para el desarrollo del proyecto**</span>"
      ],
      "metadata": {
        "id": "Giy-ju5-WFJp"
      }
    },
    {
      "cell_type": "markdown",
      "source": [
        "Conocimientos requeridos para el desarrollo:    \n",
        "\n",
        "Bases de datos relacionales, SQL, Python level bajo, Analitica Descriptiva, Manejo de Herramientas BI (power BI)\n"
      ],
      "metadata": {
        "id": "3qQ5MuidWFAR"
      }
    },
    {
      "cell_type": "markdown",
      "source": [
        "## <span style=\"color:green\">**Resultados esperados**</span>"
      ],
      "metadata": {
        "id": "sEmtQYF1W_PS"
      }
    },
    {
      "cell_type": "markdown",
      "source": [
        "Esperamos encontrar inscripciones que no estén acordes al entorno de la persona, esto teniendo en cuenta las bases mencionadas anteriormente, esto nos ayudara a saber si tenemos movimientos de gran cantidad de personas a mesas de votación en otro departamento del cual viven según estas fuentes de información la cual soporta información a nivel nacional, describir en un dashboard que contengan mapas de calor KPIs con porcentajes de movimientos no acordes y porcentaje de que movimientos que sean consecuentes a lo que se analiza en las diferentes fuentes también hacer temas demográficos dentro de lo que la data nos brinde."
      ],
      "metadata": {
        "id": "HFrGeEu6W_IS"
      }
    },
    {
      "cell_type": "markdown",
      "source": [
        "## <span style=\"color:green\">**Tiempo de desarrollo esperado**</span>"
      ],
      "metadata": {
        "id": "VaWCxgdfW_DK"
      }
    },
    {
      "cell_type": "markdown",
      "source": [
        "Teniendo en cuenta el tiempo tenemos 6 semanas para lograr el desarrollo, esto con respecto al enfoque de análisis descriptivo sobre la data que podamos vincular al proyecto.\n",
        "\n",
        "\n"
      ],
      "metadata": {
        "id": "cZqrDR3ERqg4"
      }
    }
  ]
}