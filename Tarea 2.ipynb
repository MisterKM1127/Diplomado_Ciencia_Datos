{
  "nbformat": 4,
  "nbformat_minor": 0,
  "metadata": {
    "colab": {
      "provenance": [],
      "authorship_tag": "ABX9TyM9CL+T7gdc2CRVY+9F7U9m",
      "include_colab_link": true
    },
    "kernelspec": {
      "name": "python3",
      "display_name": "Python 3"
    },
    "language_info": {
      "name": "python"
    }
  },
  "cells": [
    {
      "cell_type": "markdown",
      "metadata": {
        "id": "view-in-github",
        "colab_type": "text"
      },
      "source": [
        "<a href=\"https://colab.research.google.com/github/MisterKM1127/Diplomado_Ciencia_Datos./blob/master/Tarea%202.ipynb\" target=\"_parent\"><img src=\"https://colab.research.google.com/assets/colab-badge.svg\" alt=\"Open In Colab\"/></a>"
      ]
    },
    {
      "cell_type": "markdown",
      "source": [
        "# Cuartiles\n",
        "\n",
        "\n",
        "---\n",
        "\n"
      ],
      "metadata": {
        "id": "H39IiLRO-cUG"
      }
    },
    {
      "cell_type": "markdown",
      "source": [
        "![boxplot1.png](data:image/png;base64,iVBORw0KGgoAAAANSUhEUgAAAT4AAACfCAMAAABX0UX9AAAAflBMVEX///9OdKt+msRRd63W3+s1Y6F5lsL/x2dDbae2wth3krxJcane5e9zksCgtNNAaqa9yd3I0+WKo8js8Pamudb/4K7/w1v/3KP5+vyPpceKnb3Q2ehoiLjItJNylstxjbn/y1+Xrc//x1P/36Bdf7IWUZgwYKDw8/jIwrewwdsYzDj/AAACCklEQVR4nO3b61KCQBiAYUFYMSUVyDQqD5mH+7/BBCQdWRJcZ1ja9/m3U4PfvINGs2unAwAAAAAAAAAAAAAAAAAAAAAAAAAAAAAAAADQVDQ/CuKmx8hpNs5Ni5HneW6/6TFymo1z09PAsqzRuOkxcuk4HvnuZHq+cFhNuCsfx9h8ztwWfiV2cJiVjWNqvr4QdlVCBGHJOIbmi/3K8dKA8+L9Z3C+Wa14R37xZQ3O51R/555uv5V8HDPzjbN8gdRb5nedBSy8e03Ol3z0iUj+w5f1crlcf+XLXZpakO/s73zTXq83fc2XIfmukU8J+ZSQTwn5lJBPibn5Jo+41KR+vsKv2W3It7G63e4o3VFI8yVLZda7XTefXbyI1YZ8STP3It8jDO7IZ0lfXft8li75pMhXQD7ynXhb13W/0z+3Wb6Rq267qZ+vcJFBG/I5iTjd68oetCLnAQ6idr746hLDRRseXC40+9gsH4d8Bf/6vw7y3Yl8SsinhHxKyKeEjUolD8+3iicy+4/EPl+ettTJd5Yd0ig5oPaZOR9Q45DGlbDuGRf/IB/HzHydqN4BNVsM5eMYmm8W1Ln/hJDssJicrzOLfFFZ4JSNY2q+4+ffJHqupO/Ijjabnk8V+ZSQT0nb8mn2JTLNxrlJs68wajYOAAAAAAAAAAAAAAAAAAAAAAAAAAAAAAAAACDxA4mWRvgfg7zUAAAAAElFTkSuQmCC)"
      ],
      "metadata": {
        "id": "E1JA7k6c_Wn0"
      }
    },
    {
      "cell_type": "markdown",
      "source": [
        "$ Q1 = X_{\\left(\\lceil n \\times 0.25 \\rceil\\right)} \\\\\n",
        "Q2 = \\begin{cases} X_{\\left(\\frac{n+1}{2}\\right)} & \\text{si } n \\text{ es impar} \\\\ \\frac{X_{\\left(\\frac{n}{2}\\right)} + X_{\\left(\\frac{n}{2}+1\\right)}}{2} & \\text{si } n \\text{ es par} \\end{cases} \\\\\n",
        "Q3 = X_{\\left(\\lceil n \\times 0.75 \\rceil\\right)} $\n"
      ],
      "metadata": {
        "id": "UnRov6rO_y-_"
      }
    },
    {
      "cell_type": "markdown",
      "source": [
        "El primer paso es que utilices una sucesión de números cualquiera, pudiendo ser:"
      ],
      "metadata": {
        "id": "aePHpHMICeEI"
      }
    },
    {
      "cell_type": "code",
      "source": [
        "x= [54,68,98,42,57,21,18,59,62,28,69]\n",
        "x"
      ],
      "metadata": {
        "colab": {
          "base_uri": "https://localhost:8080/"
        },
        "id": "qoCjllciDByz",
        "outputId": "ecafe469-a021-4c25-c6b8-3cdc793e36d6"
      },
      "execution_count": null,
      "outputs": [
        {
          "output_type": "execute_result",
          "data": {
            "text/plain": [
              "[54, 68, 98, 42, 57, 21, 18, 59, 62, 28, 69]"
            ]
          },
          "metadata": {},
          "execution_count": 9
        }
      ]
    },
    {
      "cell_type": "markdown",
      "source": [
        "Lo segundo es ordenarlos de menor a mayor, como se indíco anteriormente:"
      ],
      "metadata": {
        "id": "cTD8bt5IDhMT"
      }
    },
    {
      "cell_type": "code",
      "source": [
        "x.sort()\n",
        "x"
      ],
      "metadata": {
        "colab": {
          "base_uri": "https://localhost:8080/"
        },
        "id": "SnBVNmlYC9vz",
        "outputId": "761311c9-68f4-4a52-d6d8-232d92e38307"
      },
      "execution_count": null,
      "outputs": [
        {
          "output_type": "execute_result",
          "data": {
            "text/plain": [
              "[18, 21, 28, 42, 54, 57, 59, 62, 68, 69, 98]"
            ]
          },
          "metadata": {},
          "execution_count": 10
        }
      ]
    },
    {
      "cell_type": "markdown",
      "source": [
        "Una vez estén ordenados, sólo queda pasar dichos datos a la fórmula del cuartil 1 mostrada anteriormente, asi:"
      ],
      "metadata": {
        "id": "udZQiMRMDxI-"
      }
    },
    {
      "cell_type": "code",
      "source": [
        "q= int((len(x)+1)/4)\n",
        "q"
      ],
      "metadata": {
        "colab": {
          "base_uri": "https://localhost:8080/"
        },
        "id": "by6q9gPnDzbw",
        "outputId": "50ac6701-e4ef-4fbb-d9a0-058b0f0b3e77"
      },
      "execution_count": null,
      "outputs": [
        {
          "output_type": "execute_result",
          "data": {
            "text/plain": [
              "3"
            ]
          },
          "metadata": {},
          "execution_count": 15
        }
      ]
    },
    {
      "cell_type": "markdown",
      "source": [
        "simplemente ubicas el número que está en esa posición y listo, tienes tu cuartil Q1."
      ],
      "metadata": {
        "id": "jGcQ_1zdFEJK"
      }
    },
    {
      "cell_type": "code",
      "source": [
        "q1= x[q-1]\n",
        "q1"
      ],
      "metadata": {
        "colab": {
          "base_uri": "https://localhost:8080/"
        },
        "id": "eO2xUZgbEMWM",
        "outputId": "84574159-e09c-477d-dbf7-ccb84be1aa79"
      },
      "execution_count": null,
      "outputs": [
        {
          "output_type": "execute_result",
          "data": {
            "text/plain": [
              "28"
            ]
          },
          "metadata": {},
          "execution_count": 16
        }
      ]
    },
    {
      "cell_type": "markdown",
      "source": [
        "[Cuartiles](https://tesisymasters.com.co/cuartiles/)"
      ],
      "metadata": {
        "id": "qh9ryYH4Ggrf"
      }
    },
    {
      "cell_type": "markdown",
      "source": [
        "Siendo el numero 28 el resultado para el cuartil 1"
      ],
      "metadata": {
        "id": "dEiU2jpVGJo_"
      }
    },
    {
      "cell_type": "code",
      "source": [],
      "metadata": {
        "id": "FQcsEGfWF0XC"
      },
      "execution_count": null,
      "outputs": []
    }
  ]
}